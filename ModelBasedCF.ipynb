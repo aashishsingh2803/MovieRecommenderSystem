{
 "cells": [
  {
   "cell_type": "markdown",
   "metadata": {},
   "source": [
    "## Load user rating file, covert the rating file into user-item matrix"
   ]
  },
  {
   "cell_type": "code",
   "execution_count": 1,
   "metadata": {
    "collapsed": false
   },
   "outputs": [
    {
     "name": "stdout",
     "output_type": "stream",
     "text": [
      "Number of users = 943 | Number of movies = 1682\n"
     ]
    }
   ],
   "source": [
    "import numpy as np\n",
    "import pandas as pd\n",
    "\n",
    "ratingfile = '/Users/yumei/Downloads/CSE575 machine learning/project/data/ml-100k/u.data'\n",
    "header = ['user_id', 'item_id', 'rating', 'timestamp']\n",
    "df = pd.read_csv(ratingfile, sep='\\t', names=header)\n",
    "\n",
    "n_users = df.user_id.unique().shape[0]\n",
    "n_items = df.item_id.unique().shape[0]\n",
    "print('Number of users = ' + str(n_users) + ' | Number of movies = ' + str(n_items))\n",
    "\n",
    "user_item_matrix = np.zeros((n_users, n_items))\n",
    "for line in df.itertuples():\n",
    "    user_item_matrix[line[1] - 1, line[2] - 1] = line[3]"
   ]
  },
  {
   "cell_type": "markdown",
   "metadata": {},
   "source": [
    "## Split the user-item matrix set into training set and testing set"
   ]
  },
  {
   "cell_type": "code",
   "execution_count": 2,
   "metadata": {
    "collapsed": true
   },
   "outputs": [],
   "source": [
    "from sklearn.metrics import mean_squared_error\n",
    "from sklearn import cross_validation as cv\n",
    "\n",
    "# split the data set into training set and testing set\n",
    "train_data, test_data = cv.train_test_split(df, test_size=0.25)\n",
    "\n",
    "# transfer the train set and test set of ratings to user-item matrix\n",
    "    \n",
    "train = pd.DataFrame(train_data)\n",
    "test = pd.DataFrame(test_data)\n",
    "\n",
    "train_matrix = np.zeros((n_users, n_items))\n",
    "for line in train.itertuples():\n",
    "    train_matrix[int(line[1]) - 1, int(line[2]) - 1] = line[3]\n",
    "\n",
    "test_matrix = np.zeros((n_users, n_items))\n",
    "for line in test.itertuples():\n",
    "    test_matrix[int(line[1]) - 1, int(line[2]) - 1] = line[3]  "
   ]
  },
  {
   "cell_type": "markdown",
   "metadata": {},
   "source": [
    "## Compute the Rooted mean square error to evaluate the accuaracy"
   ]
  },
  {
   "cell_type": "code",
   "execution_count": 3,
   "metadata": {
    "collapsed": true
   },
   "outputs": [],
   "source": [
    "from sklearn.metrics import mean_squared_error\n",
    "from math import sqrt\n",
    "def rmse(pred_rate, true_rate):\n",
    "    prediction = pred_rate[true_rate.nonzero()].flatten() \n",
    "    true_rate = true_rate[true_rate.nonzero()].flatten()\n",
    "    return sqrt(mean_squared_error(prediction, true_rate))\n"
   ]
  },
  {
   "cell_type": "markdown",
   "metadata": {},
   "source": [
    "## Use Singular value decomposition (SVD) for matrix factorization "
   ]
  },
  {
   "cell_type": "code",
   "execution_count": 4,
   "metadata": {
    "collapsed": false
   },
   "outputs": [],
   "source": [
    "import scipy.sparse as sp\n",
    "from scipy.sparse.linalg import svds\n",
    "\n",
    "#get SVD components from train matrix. Choose k.\n",
    "def svd(train_matrix,test_matrix, factor_k):\n",
    "    user, s, item = svds(train_matrix, k = factor_k)\n",
    "    s_diag_matrix = np.diag(s)\n",
    "    pred_rate = np.dot(np.dot(user, s_diag_matrix), item)\n",
    "    rmse_s = 0\n",
    "    rmse_s = rmse(pred_rate, test_matrix)\n",
    "    print(rmse_s)\n",
    "    return rmse_s"
   ]
  },
  {
   "cell_type": "code",
   "execution_count": 30,
   "metadata": {
    "collapsed": false
   },
   "outputs": [
    {
     "name": "stdout",
     "output_type": "stream",
     "text": [
      "2.7382781856269576\n",
      "2.672262786692225\n",
      "2.6801155020743286\n",
      "2.7120490114840234\n",
      "2.750287870886201\n",
      "2.7895267445325045\n",
      "2.8337871040874996\n",
      "2.872999629555222\n",
      "2.9100687009386483\n",
      "2.946528616588253\n",
      "[2.7382781856269576, 2.672262786692225, 2.6801155020743286, 2.7120490114840234, 2.750287870886201, 2.7895267445325045, 2.8337871040874996, 2.872999629555222, 2.9100687009386483, 2.946528616588253]\n"
     ]
    }
   ],
   "source": [
    "rmse_svd = []\n",
    "for i in  range(1,11):\n",
    "    k = i * 5\n",
    "    rmse_s = svd(train_matrix,test_matrix, k)\n",
    "    rmse_svd.append(rmse_s)\n",
    "\n",
    "print(rmse_svd)"
   ]
  },
  {
   "cell_type": "markdown",
   "metadata": {},
   "source": [
    "## Get the index for the non-zero rating in training and testing user-item matrix "
   ]
  },
  {
   "cell_type": "code",
   "execution_count": 5,
   "metadata": {
    "collapsed": true
   },
   "outputs": [],
   "source": [
    "# Index matrix for training data\n",
    "train_ind = train_matrix.copy()\n",
    "train_ind[train_ind > 0] = 1\n",
    "train_ind[train_ind == 0] = 0\n",
    "\n",
    "# Index matrix for test data\n",
    "test_ind = test_matrix.copy()\n",
    "test_ind[test_ind > 0] = 1\n",
    "test_ind[test_ind == 0] = 0"
   ]
  },
  {
   "cell_type": "markdown",
   "metadata": {},
   "source": [
    "## Prediction function"
   ]
  },
  {
   "cell_type": "code",
   "execution_count": 12,
   "metadata": {
    "collapsed": true
   },
   "outputs": [],
   "source": [
    "# Predict the unknown ratings through the dot product of the latent features for users and items and the bais\n",
    "def prediction_sgd_bais(P, Q, b_global, b_user, b_item):\n",
    "    ratings = np.dot(P, Q.T)\n",
    "    for u in range(len(b_user)):\n",
    "        for i in range(len(b_item)):\n",
    "            ratings[u][i] = b_global +  b_user[u] + b_item[i] + ratings[u][i]\n",
    "    return ratings"
   ]
  },
  {
   "cell_type": "markdown",
   "metadata": {},
   "source": [
    "## Rooted mean square error computation function"
   ]
  },
  {
   "cell_type": "code",
   "execution_count": 17,
   "metadata": {
    "collapsed": true
   },
   "outputs": [],
   "source": [
    "# Calculate the RMSE for SGD\n",
    "def als_sgd_rmse(ind, data_matrix, P, Q):\n",
    "    return np.sqrt(np.sum((ind * (data_matrix - np.dot(P, Q.T)))**2)/len(data_matrix[data_matrix > 0]))\n",
    "\n",
    "# Calculate the RMSE for ALS\n",
    "def als_als_rmse(ind, data_matrix, P, Q):\n",
    "    return np.sqrt(np.sum((ind * (data_matrix - np.dot(P.T,Q)))**2)/len(data_matrix[data_matrix > 0]))\n",
    "\n",
    "# Calculate the RMSE for SGD with bias\n",
    "def sgd_bais_rmse(ind, data_matrix, P, Q, b_global, b_user, b_item):\n",
    "    return np.sqrt(np.sum((ind * (data_matrix - prediction_sgd_bais(P, Q, b_global, b_user, b_item)))**2)/len(data_matrix[data_matrix > 0]))"
   ]
  },
  {
   "cell_type": "markdown",
   "metadata": {},
   "source": [
    "## Stochastic Gradient Descent(SGD) function"
   ]
  },
  {
   "cell_type": "code",
   "execution_count": 8,
   "metadata": {
    "collapsed": true
   },
   "outputs": [],
   "source": [
    "def sgd(train, test, train_ind, test_ind, factor_k, gamma, lmbda, iteration):\n",
    "    print (\"computing using SGD .....\")\n",
    "    \n",
    "    train_errors = []\n",
    "    test_errors = []\n",
    "\n",
    "    m, n = train.shape # Number of users and items in training set\n",
    "\n",
    "    # initialize Latent user feature matrix and Latent movie feature matrix\n",
    "    P = 3 * np.random.rand(m,factor_k)  # Latent user feature matrix\n",
    "    Q = 3 * np.random.rand(n,factor_k)  # Latent movie feature matrix\n",
    "\n",
    "    # Only consider non-zero matrix\n",
    "    users, items = train.nonzero()\n",
    "    for iter in range(iteration):\n",
    "        for u, i in zip(users, items):\n",
    "            e = train[u, i] - prediction(P[u], Q[i])  # Calculate error for gradient\n",
    "            P[u] += gamma * (e * Q[i] - lmbda * P[u])  # Update latent user feature matrix\n",
    "            Q[i] += gamma * (e * P[u] - lmbda * Q[i])  # Update latent movie feature matrix\n",
    "        train_rmse = als_sgd_rmse(train_ind, train, P, Q)  # Calculate root mean squared error from train dataset\n",
    "        test_rmse = als_sgd_rmse(test_ind, test, P, Q)  # Calculate root mean squared error from test dataset\n",
    "        train_errors.append(train_rmse)\n",
    "        test_errors.append(test_rmse)\n",
    "\n",
    "    return train_errors, test_errors"
   ]
  },
  {
   "cell_type": "markdown",
   "metadata": {},
   "source": [
    "## predict using SGD method"
   ]
  },
  {
   "cell_type": "code",
   "execution_count": 52,
   "metadata": {
    "collapsed": false
   },
   "outputs": [
    {
     "name": "stdout",
     "output_type": "stream",
     "text": [
      "computing using SGD .....\n"
     ]
    }
   ],
   "source": [
    "factor_k = 20 # number of latent features\n",
    "gamma = 0.01 # Learning rate\n",
    "lmbda = 0.1 # Regularisation weight\n",
    "iteration = 100 # number of iteration\n",
    "# use stochastic gradient descent to optimize the prediction\n",
    "train_errors_sgd, test_errors_sgd = sgd(train_matrix, test_matrix, train_ind, test_ind, factor_k, gamma, lmbda, iteration)"
   ]
  },
  {
   "cell_type": "code",
   "execution_count": 59,
   "metadata": {
    "collapsed": false
   },
   "outputs": [
    {
     "name": "stdout",
     "output_type": "stream",
     "text": [
      "[0.99368643895733777, 0.99337123085376389, 0.99306487449245051, 0.99276701676401413, 0.99247732058341342, 0.99219546404753389, 0.99192113965118867, 0.99165405355600467, 0.99139392490724731, 0.99114048519419251]\n"
     ]
    }
   ],
   "source": [
    "print(test_errors_sgd[90:100])"
   ]
  },
  {
   "cell_type": "code",
   "execution_count": 55,
   "metadata": {
    "collapsed": false,
    "scrolled": true
   },
   "outputs": [
    {
     "data": {
      "image/png": "[encoded data removed]",
      "text/plain": [
       "<matplotlib.figure.Figure at 0x3573670>"
      ]
     },
     "metadata": {},
     "output_type": "display_data"
    }
   ],
   "source": [
    "import matplotlib.pyplot as plt\n",
    "%matplotlib inline\n",
    "\n",
    "# Check performance by plotting train and test errors\n",
    "plt.plot(range(100), train_errors_sgd, linestyle='-', label='Training Data')\n",
    "plt.plot(range(100), test_errors_sgd, linestyle='-', label='Test Data')\n",
    "plt.title('SGD-MF Learning Curve')\n",
    "plt.xlabel('Number of Iteration')\n",
    "plt.ylabel('RMSE')\n",
    "plt.legend()\n",
    "plt.grid()\n",
    "plt.show()"
   ]
  },
  {
   "cell_type": "markdown",
   "metadata": {},
   "source": [
    "## Matrix factoriztion with bais(SGD)"
   ]
  },
  {
   "cell_type": "code",
   "execution_count": 41,
   "metadata": {
    "collapsed": false
   },
   "outputs": [],
   "source": [
    "def sgd_bais(train, test, train_ind, test_ind, factor_k, gamma, lmbda, iteration):\n",
    "    print (\"computing using SGD .....\")\n",
    "    \n",
    "    train_errors = []\n",
    "    test_errors = []\n",
    "\n",
    "    m, n = train.shape # Number of users and items in training set\n",
    "\n",
    "    # initialize Latent user feature matrix and Latent movie feature matrix\n",
    "    P = 3 * np.random.rand(m,factor_k)  # Latent user feature matrix\n",
    "    Q = 3 * np.random.rand(n,factor_k)  # Latent movie feature matrix\n",
    "    \n",
    "    # initilize the global mean rating,\n",
    "    b_global = train.sum()/np.count_nonzero(train)\n",
    "    \n",
    "    # initilize user mean ratings bais\n",
    "    b_user = []\n",
    "    mean_user = 0\n",
    "    for user in range(m):\n",
    "        user_ratings = train[user]\n",
    "        if np.count_nonzero(user_ratings):\n",
    "            mean_user = user_ratings.sum()/np.count_nonzero(user_ratings) - b_global\n",
    "        b_user.append(mean_user)\n",
    "    \n",
    "    # initilize item mean ratings bais\n",
    "    b_item = []\n",
    "    mean_item = 0\n",
    "    for item in range(n):\n",
    "        item_ratings = train[:,item]\n",
    "        if np.count_nonzero(item_ratings):\n",
    "            mean_item = item_ratings.sum()/np.count_nonzero(item_ratings) - b_global            \n",
    "        b_item.append(mean_item)\n",
    "    \n",
    "\n",
    "    # Only consider non-zero matrix\n",
    "    users, items = train.nonzero()\n",
    "    for iter in range(iteration):\n",
    "        for u, i in zip(users, items):\n",
    "            e = train[u, i] - (np.dot(P[u], Q[i].T) + b_global + b_user[u] + b_item[i])   # Calculate error for gradient\n",
    "            P[u] += gamma * (e * Q[i] - lmbda * P[u])  # Update latent user feature matrix\n",
    "            Q[i] += gamma * (e * P[u] - lmbda * Q[i])  # Update latent movie feature matrix\n",
    "            b_user[u] += gamma * (e  - lmbda * b_user[u])  # Update user mean ratings bais\n",
    "            b_item[i] += gamma * (e  - lmbda *b_item[i])  # Update item mean ratings bais\n",
    "            b_global += gamma * (e  - lmbda *b_global)  # Update global mean rating\n",
    "        train_rmse = sgd_bais_rmse(train_ind, train, P, Q, b_global, b_user, b_item)  # Calculate root mean squared error from train dataset\n",
    "        test_rmse = sgd_bais_rmse(test_ind, test, P, Q, b_global, b_user, b_item)  # Calculate root mean squared error from test dataset\n",
    "        train_errors.append(train_rmse)\n",
    "        test_errors.append(test_rmse)\n",
    "\n",
    "    return train_errors, test_errors"
   ]
  },
  {
   "cell_type": "markdown",
   "metadata": {},
   "source": [
    "## predict using Stochatic Gradient Descent with bais"
   ]
  },
  {
   "cell_type": "code",
   "execution_count": 48,
   "metadata": {
    "collapsed": false
   },
   "outputs": [
    {
     "name": "stdout",
     "output_type": "stream",
     "text": [
      "computing using SGD .....\n"
     ]
    }
   ],
   "source": [
    "factor_k = 20 # number of latent features\n",
    "gamma = 0.01 # Learning rate\n",
    "lmbda = 0.1 # Regularisation weight\n",
    "iteration = 100 # number of iteration\n",
    "# use stochastic gradient descent to optimize the prediction\n",
    "train_errors_sgd_bais, test_errors_sgd_bais = sgd_bais(train_matrix, test_matrix, train_ind, test_ind, factor_k, gamma, lmbda, iteration)\n"
   ]
  },
  {
   "cell_type": "code",
   "execution_count": 49,
   "metadata": {
    "collapsed": false
   },
   "outputs": [
    {
     "name": "stdout",
     "output_type": "stream",
     "text": [
      "[0.95738986227393519, 0.95705193197721095, 0.95672378678091186, 0.95640507583907719, 0.95609546205378249, 0.95579462149051209, 0.9555022428285177, 0.95521802684269541, 0.95494168591390838, 0.95467294356500265]\n"
     ]
    }
   ],
   "source": [
    "print(test_errors_sgd_bais[90:100])"
   ]
  },
  {
   "cell_type": "code",
   "execution_count": 58,
   "metadata": {
    "collapsed": false
   },
   "outputs": [
    {
     "data": {
      "image/png": "[encoded data removed]",
      "text/plain": [
       "<matplotlib.figure.Figure at 0x504a430>"
      ]
     },
     "metadata": {},
     "output_type": "display_data"
    }
   ],
   "source": [
    "import matplotlib.pyplot as plt\n",
    "%matplotlib inline\n",
    "\n",
    "plt.plot(range(100), train_errors_sgd_bais, linestyle='-',  label='Training Data')\n",
    "plt.plot(range(100), test_errors_sgd_bais, linestyle='-', label='Test Data')\n",
    "plt.title('SGD with bais Learning Curve')\n",
    "plt.xlabel('Number of Iteration')\n",
    "plt.ylabel('RMSE')\n",
    "plt.legend()\n",
    "plt.grid()\n",
    "plt.show()"
   ]
  },
  {
   "cell_type": "markdown",
   "metadata": {},
   "source": [
    "## Alternating Least Square (ALS) function"
   ]
  },
  {
   "cell_type": "code",
   "execution_count": 18,
   "metadata": {
    "collapsed": true
   },
   "outputs": [],
   "source": [
    "def als(train, test, train_ind, test_ind, factor_k, lmbda, iteration):\n",
    "    \n",
    "    train_errors = []\n",
    "    test_errors = []\n",
    "\n",
    "    m, n = train.shape  # Number of users and items in training set\n",
    "\n",
    "    # initialize Latent user feature matrix and Latent movie feature matrix\n",
    "    P = 3 * np.random.rand(factor_k,m)  # Latent user feature matrix\n",
    "    Q = 3 * np.random.rand(factor_k,n)  # Latent movie feature matrix\n",
    "    \n",
    "    Q[:,0] = train[train != 0].mean(axis=0) # Avg. rating for each movie\n",
    "    E = np.eye(factor_k) # (k x k)-dimensional idendity matrix\n",
    "    \n",
    "    for iter in range(iteration):\n",
    "        print (\"computing using ALS .....\")\n",
    "        # fix Latent movie feature matrix(Q), optimize Latent user feature matrix(P)\n",
    "        for i, Ii in enumerate(train_ind):\n",
    "            nui = np.count_nonzero(Ii) # Number of items user i has rated\n",
    "            if (nui == 0): nui = 1 # Be aware of zero counts!\n",
    "    \n",
    "            # Least squares solution\n",
    "            Ai = np.dot(Q, np.dot(np.diag(Ii), Q.T)) + lmbda * nui * E\n",
    "            Vi = np.dot(Q, np.dot(np.diag(Ii), train[i].T))\n",
    "            P[:,i] = np.linalg.solve(Ai,Vi)\n",
    "\n",
    "        # fix Latent user feature matrix(P), optimize Latent movie feature matrix(Q)\n",
    "        for j, Ij in enumerate(train_ind.T):\n",
    "            nmj = np.count_nonzero(Ij) # Number of users that rated item j\n",
    "            if (nmj == 0): nmj = 1 # Be aware of zero counts!\n",
    "        \n",
    "            # Least squares solution\n",
    "            Aj = np.dot(P, np.dot(np.diag(Ij), P.T)) + lmbda * nmj * E\n",
    "            Vj = np.dot(P, np.dot(np.diag(Ij), train[:,j]))\n",
    "            Q[:,j] = np.linalg.solve(Aj,Vj)\n",
    "\n",
    "        train_rmse = als_als_rmse(train_ind, train, P, Q)  # Calculate root mean squared error from train dataset\n",
    "        test_rmse = als_als_rmse(test_ind, test, P, Q)  # Calculate root mean squared error from test dataset\n",
    "        train_errors.append(train_rmse)\n",
    "        test_errors.append(test_rmse)\n",
    "\n",
    "    return train_errors, test_errors"
   ]
  },
  {
   "cell_type": "markdown",
   "metadata": {},
   "source": [
    "## Predict the rating and compute the RMSE using the three different matrix factorization methods SVD, SGD, ALS. "
   ]
  },
  {
   "cell_type": "code",
   "execution_count": 19,
   "metadata": {
    "collapsed": false
   },
   "outputs": [
    {
     "name": "stdout",
     "output_type": "stream",
     "text": [
      "computing using ALS .....\n",
      "computing using ALS .....\n",
      "computing using ALS .....\n",
      "computing using ALS .....\n",
      "computing using ALS .....\n",
      "computing using ALS .....\n",
      "computing using ALS .....\n",
      "computing using ALS .....\n",
      "computing using ALS .....\n",
      "computing using ALS .....\n",
      "computing using ALS .....\n",
      "computing using ALS .....\n",
      "computing using ALS .....\n",
      "computing using ALS .....\n",
      "computing using ALS .....\n"
     ]
    }
   ],
   "source": [
    "factor_k = 20 # number of latent features\n",
    "gamma = 0.01 # Learning rate\n",
    "lmbda = 0.1 # Regularisation weight\n",
    "iteration = 15 # number of iteration\n",
    "\n",
    "# use the alternating least squares to to optimize the prediction\n",
    "train_errors_als, test_errors_als = als(train_matrix, test_matrix, train_ind, test_ind, factor_k, lmbda, iteration)"
   ]
  },
  {
   "cell_type": "code",
   "execution_count": 21,
   "metadata": {
    "collapsed": false
   },
   "outputs": [
    {
     "name": "stdout",
     "output_type": "stream",
     "text": [
      "ALS:  [1.2931642900231697, 0.95205223690057916, 0.82796309362575515, 0.76868270049910459, 0.73547279723283221, 0.71493075694768649, 0.70136014375445443, 0.69192228874119155, 0.68507388342581554, 0.67992974372707393, 0.67595843914427467, 0.67282634624811311, 0.67031444007507957, 0.66827269243829723, 0.66659439588891134]\n",
      "ALS test:  [1.4070488304831923, 1.1325381928759248, 1.0481268062356446, 1.0074370585885268, 0.9842763981861351, 0.96967495444194018, 0.9599001093363031, 0.9531269636799754, 0.94832334918634786, 0.9448522368473361, 0.94230075383727374, 0.94039276437425168, 0.93893923980322436, 0.93780949557169524, 0.93691367621536292]\n"
     ]
    }
   ],
   "source": [
    "print(\"ALS: \", train_errors_als)\n",
    "print(\"ALS test: \", test_errors_als)"
   ]
  },
  {
   "cell_type": "markdown",
   "metadata": {},
   "source": [
    "## Plot the learning curve of RMSE based on ALS method"
   ]
  },
  {
   "cell_type": "code",
   "execution_count": 22,
   "metadata": {
    "collapsed": false
   },
   "outputs": [
    {
     "data": {
      "image/png": "[encoded data removed]",
      "text/plain": [
       "<matplotlib.figure.Figure at 0xec1990>"
      ]
     },
     "metadata": {},
     "output_type": "display_data"
    }
   ],
   "source": [
    "import matplotlib.pyplot as plt\n",
    "%matplotlib inline\n",
    "\n",
    "plt.plot(range(iteration), train_errors_als, marker='o', label='Training Data')\n",
    "plt.plot(range(iteration), test_errors_als, marker='v', label='Test Data')\n",
    "plt.title('ALS Learning Curve')\n",
    "plt.xlabel('Number of Iteration')\n",
    "plt.ylabel('RMSE')\n",
    "plt.legend()\n",
    "plt.grid()\n",
    "plt.show()"
   ]
  },
  {
   "cell_type": "code",
   "execution_count": null,
   "metadata": {
    "collapsed": true
   },
   "outputs": [],
   "source": []
  }
 ],
 "metadata": {
  "anaconda-cloud": {},
  "kernelspec": {
   "display_name": "Python [Root]",
   "language": "python",
   "name": "Python [Root]"
  },
  "language_info": {
   "codemirror_mode": {
    "name": "ipython",
    "version": 3
   },
   "file_extension": ".py",
   "mimetype": "text/x-python",
   "name": "python",
   "nbconvert_exporter": "python",
   "pygments_lexer": "ipython3",
   "version": "3.5.2"
  }
 },
 "nbformat": 4,
 "nbformat_minor": 0
}
