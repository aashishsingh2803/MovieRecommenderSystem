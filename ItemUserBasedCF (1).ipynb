{
 "cells": [
  {
   "cell_type": "markdown",
   "metadata": {},
   "source": [
    "# Load movie rating file\n",
    "## convert the rating file into a user-item matrix"
   ]
  },
  {
   "cell_type": "code",
   "execution_count": 1,
   "metadata": {
    "collapsed": false
   },
   "outputs": [
    {
     "name": "stdout",
     "output_type": "stream",
     "text": [
      "Number of users = 943 | Number of movies = 1682\n"
     ]
    }
   ],
   "source": [
    "import numpy as np\n",
    "import pandas as pd\n",
    "\n",
    "ratingfile = '/Users/yumei/Downloads/CSE575 machine learning/project/data/ml-100k/u.data'\n",
    "header = ['user_id', 'item_id', 'rating', 'timestamp']\n",
    "df = pd.read_csv(ratingfile, sep='\\t', names=header)\n",
    "\n",
    "n_users = df.user_id.unique().shape[0]\n",
    "n_items = df.item_id.unique().shape[0]\n",
    "print('Number of users = ' + str(n_users) + ' | Number of movies = ' + str(n_items))\n",
    "\n",
    "user_item_matrix = np.zeros((n_users, n_items))\n",
    "for line in df.itertuples():\n",
    "    user_item_matrix[line[1] - 1, line[2] - 1] = line[3]"
   ]
  },
  {
   "cell_type": "markdown",
   "metadata": {},
   "source": [
    "## Pre-compute the user-user similarity matrix using pearson correlation"
   ]
  },
  {
   "cell_type": "code",
   "execution_count": 2,
   "metadata": {
    "collapsed": false
   },
   "outputs": [],
   "source": [
    "import scipy.stats\n",
    "import scipy.spatial\n",
    "import math\n",
    "from math import sqrt\n",
    "\n",
    "user_similarity_pearson = np.zeros((n_users, n_users))\n",
    "\n",
    "# compute the similarities in the upper triangle part\n",
    "for user1 in range(n_users):\n",
    "    for user2 in range(n_users):\n",
    "        if(user1 <= user2):\n",
    "            break\n",
    "        elif np.count_nonzero(user_item_matrix[user1]) and np.count_nonzero(user_item_matrix[user2]):\n",
    "            try:\n",
    "                if not math.isnan(scipy.stats.pearsonr(user_item_matrix[user1], user_item_matrix[user2])[0]):\n",
    "                    user_similarity_pearson[user1][user2] = scipy.stats.pearsonr(user_item_matrix[user1], user_item_matrix[user2])[0]\n",
    "                else:\n",
    "                    user_similarity_pearson[user1][user2] = 0\n",
    "            except:\n",
    "                user_similarity_pearson[user1][user2] = 0\n",
    "                \n",
    "# complete all entries by  add the transposed similarity matrix to our\n",
    "# previously computed values                \n",
    "user_similarity_pearson = user_similarity_pearson + user_similarity_pearson.T"
   ]
  },
  {
   "cell_type": "markdown",
   "metadata": {},
   "source": [
    "## Pre-compute the item-item similarity matrix using pearson correlation"
   ]
  },
  {
   "cell_type": "code",
   "execution_count": 3,
   "metadata": {
    "collapsed": true
   },
   "outputs": [],
   "source": [
    "item_similarity_pearson = np.zeros((n_items, n_items))\n",
    "data = user_item_matrix.T.copy()\n",
    "# compute the similarities in the upper triangle part\n",
    "for item1 in range(n_items):\n",
    "    for item2 in range(n_items):\n",
    "        if item1 <= item2:\n",
    "            break\n",
    "        elif np.count_nonzero(data[item1]) and np.count_nonzero(data[item2]):\n",
    "            try:\n",
    "                if not math.isnan(scipy.stats.pearsonr(data[item1], data[item2])[0]):\n",
    "                    item_similarity_pearson[item1][item2] = scipy.stats.pearsonr(data[item1], data[item2])[0]\n",
    "                else:\n",
    "                    item_similarity_pearson[item1][item2] = 0\n",
    "            except:\n",
    "                item_similarity_pearson[item1][item2] = 0\n",
    "                \n",
    "# complete all entries by  add the transposed similarity matrix to our\n",
    "# previously computed values                \n",
    "item_similarity_pearson = item_similarity_pearson + item_similarity_pearson.T"
   ]
  },
  {
   "cell_type": "markdown",
   "metadata": {},
   "source": [
    "## Split the user-item matrix set into training set and testing set"
   ]
  },
  {
   "cell_type": "code",
   "execution_count": 4,
   "metadata": {
    "collapsed": true
   },
   "outputs": [],
   "source": [
    "from sklearn.metrics import mean_squared_error\n",
    "from sklearn import cross_validation as cv\n",
    "\n",
    "# split the data set into training set and testing set\n",
    "train_data, test_data = cv.train_test_split(df, test_size=0.25)"
   ]
  },
  {
   "cell_type": "markdown",
   "metadata": {},
   "source": [
    "## Rating predict function based on the the user-user similarity"
   ]
  },
  {
   "cell_type": "code",
   "execution_count": 5,
   "metadata": {
    "collapsed": true
   },
   "outputs": [],
   "source": [
    "def userbased_predict_rmse(train,test,user_similarity, n_users, n_items, k):\n",
    "    # transfer the train set of ratings to user-item matrix\n",
    "    \n",
    "    train = pd.DataFrame(train)\n",
    "    test = pd.DataFrame(test)\n",
    "\n",
    "    train_matrix = np.zeros((n_users, n_items))\n",
    "    for line in train.itertuples():\n",
    "        train_matrix[int(line[1]) - 1, int(line[2]) - 1] = line[3]\n",
    "\n",
    "    true_rate = []\n",
    "    pred_rate = []\n",
    "\n",
    "    for line in test.itertuples():\n",
    "        user = int(line[1])\n",
    "        item = int(line[2])\n",
    "        true_rate.append(line[3])\n",
    "\n",
    "        item_pred = 3.0\n",
    "\n",
    "        if np.count_nonzero(train_matrix[user-1]):\n",
    "            sim_pearson = user_similarity[user - 1]\n",
    "            # sort the similarities in descending order, find the k similar items which has the largest similarities\n",
    "            sortedindex = np.argsort(-sim_pearson)\n",
    "            normal_pearson = 0\n",
    "            dot = 0\n",
    "            for i in range(k):\n",
    "                ind = sortedindex[i]\n",
    "                # normalize the similarity for the rated items\n",
    "                normal_pearson += np.absolute(sim_pearson[ind])\n",
    "                # similarity multiply the ratings\n",
    "                dot += sim_pearson[ind] * train_matrix[ind][item-1]\n",
    "\n",
    "            if normal_pearson > 0:\n",
    "                item_pred = dot / normal_pearson\n",
    "\n",
    "        if item_pred < 0:\n",
    "            item_pred = 0\n",
    "\n",
    "        if item_pred > 5:\n",
    "            item_pred = 5\n",
    "\n",
    "        pred_rate.append(item_pred)\n",
    "\n",
    "    rmse= sqrt(mean_squared_error(true_rate, pred_rate))\n",
    "\n",
    "    return rmse,pred_rate"
   ]
  },
  {
   "cell_type": "markdown",
   "metadata": {},
   "source": [
    "## Rating predict function based on the the item-item similarity"
   ]
  },
  {
   "cell_type": "code",
   "execution_count": 6,
   "metadata": {
    "collapsed": true
   },
   "outputs": [],
   "source": [
    "def itembased_predict_rmse(train, test, item_similarity, n_users, n_items, k):\n",
    "    print(\"compute item based rmse .......\")\n",
    "    # transfer the train set of ratings to user-item matrix\n",
    "    train = pd.DataFrame(train)\n",
    "    test = pd.DataFrame(test)\n",
    "    \n",
    "    train_matrix = np.zeros((n_users, n_items))\n",
    "    for line in train.itertuples():\n",
    "        train_matrix[line[1] - 1, line[2] - 1] = line[3]\n",
    "\n",
    "    true_rate = []\n",
    "    pred_rate = []\n",
    "\n",
    "    for line in test.itertuples():\n",
    "        user = line[1]\n",
    "        item = line[2]\n",
    "        true_rate.append(line[3])\n",
    "\n",
    "        item_pred = 3.0\n",
    "\n",
    "        if np.count_nonzero(train_matrix[:, item - 1]):\n",
    "            sim_pearson = item_similarity[item - 1]\n",
    "            # sort the similarities, find the k similar items which has the laest the similarities\n",
    "            sortedindex = np.argsort(-sim_pearson)\n",
    "            normal_pearson = 0\n",
    "            dot = 0\n",
    "            for i in range(k):\n",
    "                ind = sortedindex[i]\n",
    "                # normalize the similarity for the rated items\n",
    "                normal_pearson += np.absolute(sim_pearson[ind])\n",
    "                # similarity multiply the ratings\n",
    "                dot += sim_pearson[ind] * train_matrix[user - 1][ind]\n",
    "\n",
    "            if normal_pearson > 0:\n",
    "                item_pred = dot / normal_pearson\n",
    "\n",
    "        if item_pred < 0:\n",
    "            item_pred = 0\n",
    "\n",
    "        if item_pred > 5:\n",
    "            item_pred = 5\n",
    "\n",
    "        pred_rate.append(item_pred)\n",
    "\n",
    "    rmse= sqrt(mean_squared_error(true_rate, pred_rate))\n",
    "\n",
    "    return rmse,pred_rate"
   ]
  },
  {
   "cell_type": "markdown",
   "metadata": {},
   "source": [
    "## global baseline method"
   ]
  },
  {
   "cell_type": "code",
   "execution_count": 7,
   "metadata": {
    "collapsed": false
   },
   "outputs": [],
   "source": [
    "def global_baseline(train_matrix,n_users,n_items):\n",
    "    overall_mean_rating = train_matrix.sum()/np.count_nonzero(train_matrix)\n",
    "    # print(\"sum: \", train_matrix.sum(), \"nonzero: \", np.count_nonzero(train_matrix), \"mean: \", overall_mean_rating)\n",
    "    user_rating_deviation = []\n",
    "    mean_user = 0\n",
    "    for user in range(n_users):\n",
    "        user_ratings = train_matrix[user]\n",
    "        if np.count_nonzero(user_ratings):\n",
    "            mean_user = user_ratings.sum()/np.count_nonzero(user_ratings) - overall_mean_rating\n",
    "        user_rating_deviation.append(mean_user)\n",
    "    # print(user_rating_deviation)\n",
    "    \n",
    "    item_rating_deviation = []\n",
    "    mean_item = 0\n",
    "    for item in range(n_items):\n",
    "        item_ratings = train_matrix[:,item]\n",
    "        if np.count_nonzero(item_ratings):\n",
    "            mean_item = item_ratings.sum()/np.count_nonzero(item_ratings) - overall_mean_rating            \n",
    "        item_rating_deviation.append(mean_item)\n",
    "    # print(item_rating_deviation)\n",
    "    \n",
    "    global_baseline_ratings = np.zeros((n_users, n_items))\n",
    "    for user in range(n_users):\n",
    "        for item in range(n_items):\n",
    "            global_baseline_ratings[user,item] = overall_mean_rating + user_rating_deviation[user] + item_rating_deviation[item]\n",
    "            if math.isnan(global_baseline_ratings[user,item]):\n",
    "                print(\"item: \", item,\" vs:\", item_rating_deviation[item], \" user: \",user, \" vs \",user_rating_deviation[user] )\n",
    "                print(\"overall_mean_rating: \" , overall_mean_rating)\n",
    "\n",
    "    return global_baseline_ratings\n",
    "    "
   ]
  },
  {
   "cell_type": "markdown",
   "metadata": {},
   "source": [
    "## hybird CF combining global baseline method with user-based KNN CF"
   ]
  },
  {
   "cell_type": "code",
   "execution_count": 8,
   "metadata": {
    "collapsed": false
   },
   "outputs": [],
   "source": [
    "def hybird_predict_rmse(train_matrix,test,global_baseline_ratings,user_similarity, k):\n",
    "    # transfer the train set of ratings to user-item matrix\n",
    "     \n",
    "    test = pd.DataFrame(test)\n",
    "\n",
    "    true_rate = []\n",
    "    pred_rate = []\n",
    "\n",
    "    for line in test.itertuples():\n",
    "        user = int(line[1])\n",
    "        item = int(line[2])\n",
    "        true_rate.append(line[3])\n",
    "\n",
    "        item_pred = 3.0\n",
    "\n",
    "        if np.count_nonzero(train_matrix[user-1]):\n",
    "            sim_pearson = user_similarity[user - 1]\n",
    "            # sort the similarities, find the k similar items which has the laest the similarities\n",
    "            sortedindex = np.argsort(-sim_pearson)\n",
    "            normal_pearson = 0\n",
    "            dot = 0\n",
    "            for i in range(k):\n",
    "                ind = sortedindex[i]\n",
    "                # normalize the similarity for the rated items\n",
    "                normal_pearson += np.absolute(sim_pearson[ind])\n",
    "                # ratings weighted with similarity and subtracted with the global baseline rating\n",
    "                dot += sim_pearson[ind] * (train_matrix[ind][item-1] - global_baseline_ratings[ind][item-1])\n",
    "\n",
    "            if normal_pearson > 0:\n",
    "                item_pred = global_baseline_ratings[user-1][item-1] + dot / normal_pearson\n",
    "            if math.isnan(item_pred):\n",
    "                print(\"user: \",user-1, \"item: \", item-1)\n",
    "                print(\"baseline_ratings: \", global_baseline_ratings[user-1][item-1])\n",
    "                print(\"nor: \",  dot / normal_pearson )\n",
    "                break\n",
    "\n",
    "        if item_pred < 0:\n",
    "            item_pred = 0\n",
    "\n",
    "        if item_pred > 5:\n",
    "            item_pred = 5\n",
    "\n",
    "        pred_rate.append(item_pred)\n",
    "\n",
    "    rmse= sqrt(mean_squared_error(true_rate, pred_rate))\n",
    "\n",
    "    return rmse,pred_rate"
   ]
  },
  {
   "cell_type": "markdown",
   "metadata": {},
   "source": [
    "## Pre-compute the global baseline ratings for training set"
   ]
  },
  {
   "cell_type": "code",
   "execution_count": 9,
   "metadata": {
    "collapsed": false
   },
   "outputs": [],
   "source": [
    "train = pd.DataFrame(train_data)\n",
    "train_matrix = np.zeros((n_users, n_items))\n",
    "for line in train.itertuples():\n",
    "    train_matrix[int(line[1]) - 1, int(line[2]) - 1] = line[3]\n",
    "    \n",
    "global_baseline_ratings = global_baseline(train_matrix,n_users, n_items)\n"
   ]
  },
  {
   "cell_type": "markdown",
   "metadata": {},
   "source": [
    "## Predict the ratings for the test set using the combined method(linear combine globle baseline method and user based CF)"
   ]
  },
  {
   "cell_type": "code",
   "execution_count": 10,
   "metadata": {
    "collapsed": false
   },
   "outputs": [],
   "source": [
    "rmse_hybird = []\n",
    "for i in range(3,10):\n",
    "    k =  i\n",
    "    rmse_u,pred_rate_u = hybird_predict_rmse(train_matrix,test_data,global_baseline_ratings,user_similarity_pearson, k)\n",
    "    rmse_hybird.append(rmse_u)\n",
    "    \n",
    "for i in range(1,11):\n",
    "    k = 10 * i\n",
    "    rmse_u,pred_rate_u = hybird_predict_rmse(train_matrix,test_data,global_baseline_ratings,user_similarity_pearson, k)\n",
    "    rmse_hybird.append(rmse_u)"
   ]
  },
  {
   "cell_type": "markdown",
   "metadata": {},
   "source": [
    "## Predict the ratings for testing set, and compute the RMSE"
   ]
  },
  {
   "cell_type": "code",
   "execution_count": 11,
   "metadata": {
    "collapsed": false
   },
   "outputs": [
    {
     "name": "stdout",
     "output_type": "stream",
     "text": [
      "compute item based rmse .......\n",
      "compute item based rmse .......\n",
      "compute item based rmse .......\n",
      "compute item based rmse .......\n",
      "compute item based rmse .......\n",
      "compute item based rmse .......\n",
      "compute item based rmse .......\n"
     ]
    }
   ],
   "source": [
    "rmse_user = []\n",
    "rmse_item = []\n",
    "\n",
    "for i in range(3,10):\n",
    "    k =  i\n",
    "    rmse_u,pred_rate_u = userbased_predict_rmse(train_data, test_data,user_similarity_pearson, n_users, n_items, k)\n",
    "    rmse_user.append(rmse_u)\n",
    "    # item based\n",
    "    rmse_i,pred_rate_i = itembased_predict_rmse(train_data, test_data,item_similarity_pearson, n_users, n_items, k)\n",
    "    rmse_item.append(rmse_i) "
   ]
  },
  {
   "cell_type": "code",
   "execution_count": 12,
   "metadata": {
    "collapsed": false
   },
   "outputs": [
    {
     "name": "stdout",
     "output_type": "stream",
     "text": [
      "compute item based rmse .......\n",
      "compute item based rmse .......\n",
      "compute item based rmse .......\n",
      "compute item based rmse .......\n",
      "compute item based rmse .......\n",
      "compute item based rmse .......\n",
      "compute item based rmse .......\n",
      "compute item based rmse .......\n",
      "compute item based rmse .......\n",
      "compute item based rmse .......\n"
     ]
    }
   ],
   "source": [
    "\n",
    "for i in range(1,11):\n",
    "    k = 10 * i\n",
    "    # user based\n",
    "    rmse_u,pred_rate_u = userbased_predict_rmse(train_data, test_data,user_similarity_pearson, n_users, n_items, k)\n",
    "    rmse_user.append(rmse_u)\n",
    "    # item based\n",
    "    rmse_i,pred_rate_i = itembased_predict_rmse(train_data, test_data,item_similarity_pearson, n_users, n_items, k)\n",
    "    rmse_item.append(rmse_i)    \n"
   ]
  },
  {
   "cell_type": "code",
   "execution_count": 13,
   "metadata": {
    "collapsed": false
   },
   "outputs": [
    {
     "name": "stdout",
     "output_type": "stream",
     "text": [
      "user based rmse:  [2.5232071768261957, 2.4869231033246066, 2.4692775439128254, 2.4575663651950896, 2.4521704553944663, 2.446238854672891, 2.4451138797608643, 2.4463922524497725, 2.461998572876158, 2.4865830503201782, 2.511113354949078, 2.5324160908453366, 2.5511760356604247, 2.5679149203468734, 2.583889324298586, 2.598569132235281, 2.612894187105368]\n",
      "item based rmse:  [2.459536421855495, 2.4275992379512843, 2.409666166333641, 2.4058280048327454, 2.4028088245956085, 2.4006310056637092, 2.4018740827805667, 2.4020742609565024, 2.436205666486991, 2.473681147374411, 2.5071903512213125, 2.5375292587417015, 2.564986593890093, 2.588968484925319, 2.610248917866403, 2.62944356589108, 2.6472943220408367]\n",
      "bybrid based rmse:  [2.4366743877787362, 2.4097340454846794, 2.395666471461357, 2.392365315337208, 2.3886533607386373, 2.3840451110793093, 2.3876237032784426, 2.391473182166655, 2.421403051004355, 2.4504818424717794, 2.4751180821068104, 2.497760590668552, 2.518710654837317, 2.537067616852074, 2.554128130394226, 2.5701896515345806, 2.5857039003067266]\n",
      "[[ 2.52320718  2.45953642  2.43667439]\n",
      " [ 2.4869231   2.42759924  2.40973405]\n",
      " [ 2.46927754  2.40966617  2.39566647]\n",
      " [ 2.45756637  2.405828    2.39236532]\n",
      " [ 2.45217046  2.40280882  2.38865336]\n",
      " [ 2.44623885  2.40063101  2.38404511]\n",
      " [ 2.44511388  2.40187408  2.3876237 ]\n",
      " [ 2.44639225  2.40207426  2.39147318]\n",
      " [ 2.46199857  2.43620567  2.42140305]\n",
      " [ 2.48658305  2.47368115  2.45048184]\n",
      " [ 2.51111335  2.50719035  2.47511808]\n",
      " [ 2.53241609  2.53752926  2.49776059]\n",
      " [ 2.55117604  2.56498659  2.51871065]\n",
      " [ 2.56791492  2.58896848  2.53706762]\n",
      " [ 2.58388932  2.61024892  2.55412813]\n",
      " [ 2.59856913  2.62944357  2.57018965]\n",
      " [ 2.61289419  2.64729432  2.5857039 ]]\n"
     ]
    }
   ],
   "source": [
    "print(\"user based rmse: \", rmse_user)\n",
    "print(\"item based rmse: \", rmse_item)\n",
    "print(\"bybrid based rmse: \", rmse_hybird)\n",
    "m = np.zeros((17, 3))\n",
    "j = 0\n",
    "for i in range(17):\n",
    "    m[i][j] = rmse_user[i]\n",
    "j = 1\n",
    "for i in range(17):\n",
    "    m[i][j] = rmse_item[i]\n",
    "j = 2\n",
    "for i in range(17):\n",
    "    m[i][j] = rmse_hybird[i]\n",
    "\n",
    "print(m)"
   ]
  },
  {
   "cell_type": "code",
   "execution_count": 14,
   "metadata": {
    "collapsed": false
   },
   "outputs": [
    {
     "data": {
      "image/png": "[encoded data removed]",
      "text/plain": [
       "<matplotlib.figure.Figure at 0xb1bb50>"
      ]
     },
     "metadata": {},
     "output_type": "display_data"
    }
   ],
   "source": [
    "import matplotlib.pyplot as plt\n",
    "%matplotlib inline\n",
    "k = 17\n",
    "plt.plot(range(k), rmse_user, marker='v', label='User based')\n",
    "plt.plot(range(k), rmse_item, marker='o', label='Item based')\n",
    "plt.plot(range(k), rmse_hybird, marker='^', label='hybrid based')\n",
    "\n",
    "plt.title('Memory based Learning Curve')\n",
    "plt.xlabel('Number of neighbors(x10)')\n",
    "plt.ylabel('RMSE')\n",
    "plt.legend(loc='upper left')\n",
    "plt.grid()\n",
    "plt.show()"
   ]
  },
  {
   "cell_type": "code",
   "execution_count": null,
   "metadata": {
    "collapsed": true
   },
   "outputs": [],
   "source": []
  }
 ],
 "metadata": {
  "anaconda-cloud": {},
  "kernelspec": {
   "display_name": "Python [Root]",
   "language": "python",
   "name": "Python [Root]"
  },
  "language_info": {
   "codemirror_mode": {
    "name": "ipython",
    "version": 3
   },
   "file_extension": ".py",
   "mimetype": "text/x-python",
   "name": "python",
   "nbconvert_exporter": "python",
   "pygments_lexer": "ipython3",
   "version": "3.5.2"
  }
 },
 "nbformat": 4,
 "nbformat_minor": 0
}
